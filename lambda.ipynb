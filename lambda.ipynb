{
 "cells": [
  {
   "cell_type": "markdown",
   "id": "9d9da4c1",
   "metadata": {},
   "source": [
    "## Lambda関数"
   ]
  },
  {
   "cell_type": "code",
   "execution_count": null,
   "id": "5fc3e420",
   "metadata": {},
   "outputs": [],
   "source": [
    "import os\n",
    "import io\n",
    "import boto3\n",
    "import json\n",
    "import numpy as np\n",
    "from PIL import Image\n",
    "import base64\n",
    "\n",
    "endpoint_name = \"sagemaker-inst-ep--2022-03-05-17-46-55\"\n",
    "runtime= boto3.client('runtime.sagemaker')\n",
    "\n",
    "def lambda_handler(event, context):\n",
    "    data = json.loads(json.dumps(event))\n",
    "    test_data = data['data']\n",
    "    img_1 = base64.b64decode(test_data)\n",
    "    payload= bytearray(img_1)\n",
    "    \n",
    "    response = runtime.invoke_endpoint(EndpointName=endpoint_name,ContentType='application/x-image',Body=payload)\n",
    "    \n",
    "    result = json.loads(response['Body'].read())\n",
    "    return result\n",
    "    \n",
    "    result = response['Body'].read()"
   ]
  }
 ],
 "metadata": {
  "interpreter": {
   "hash": "85094c22a70d9a920ae9c057df293a164b47efdeb27f1fcd1eefac4aefb23a40"
  },
  "kernelspec": {
   "display_name": "Python 3.8.11 64-bit ('kaggle_3': conda)",
   "name": "python3"
  },
  "language_info": {
   "codemirror_mode": {
    "name": "ipython",
    "version": 3
   },
   "file_extension": ".py",
   "mimetype": "text/x-python",
   "name": "python",
   "nbconvert_exporter": "python",
   "pygments_lexer": "ipython3",
   "version": "3.8.11"
  }
 },
 "nbformat": 4,
 "nbformat_minor": 5
}
